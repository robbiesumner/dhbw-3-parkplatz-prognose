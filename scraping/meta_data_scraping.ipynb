{
 "cells": [
  {
   "cell_type": "markdown",
   "metadata": {},
   "source": [
    "# Benötigte Pakete\n",
    "- Pandas: Für das Schreiben auf csv-Dateien\n",
    "- Requests: Für das Senden von HTTP-Anfragen\n",
    "- BeautifulSoup: Für das Suchen in HTML-Dateien"
   ]
  },
  {
   "cell_type": "code",
   "execution_count": 1,
   "metadata": {},
   "outputs": [],
   "source": [
    "from bs4 import BeautifulSoup\n",
    "import requests\n",
    "import pandas as pd"
   ]
  },
  {
   "cell_type": "markdown",
   "metadata": {},
   "source": [
    "# Dataframe zu den Metadaten erstellen"
   ]
  },
  {
   "cell_type": "code",
   "execution_count": 2,
   "metadata": {},
   "outputs": [],
   "source": [
    "df = pd.DataFrame(\n",
    "        columns=[\n",
    "            \"Parkhauskuerzel\",\n",
    "            \"Parkplatzname\",\n",
    "            \"Durchfahrtshoehe\",\n",
    "            \"Aufzug\",\n",
    "            \"Ladestation\",\n",
    "            \"Gesamtanzahl\",\n",
    "            \"Behindertenstellplaetze\",\n",
    "        ]\n",
    "    )"
   ]
  },
  {
   "cell_type": "markdown",
   "metadata": {},
   "source": [
    "# Parkplätze definieren"
   ]
  },
  {
   "cell_type": "code",
   "execution_count": 3,
   "metadata": {},
   "outputs": [],
   "source": [
    "parking_lots = [\n",
    "        \"K01\",\n",
    "        \"K02\",\n",
    "        \"K03\",\n",
    "        \"K04\",\n",
    "        \"N02\",\n",
    "        \"N03\",\n",
    "        \"N05\",\n",
    "        \"N06\",\n",
    "        \"N07\",\n",
    "        \"S01\",\n",
    "        \"S02\",\n",
    "        \"S03\",\n",
    "        \"S04\",\n",
    "        \"S05\",\n",
    "        \"S06\",\n",
    "        \"S07\",\n",
    "        \"W01\",\n",
    "        \"W02\",\n",
    "        \"W03\",\n",
    "        \"W04\",\n",
    "    ]"
   ]
  },
  {
   "cell_type": "markdown",
   "metadata": {},
   "source": [
    "# Funktion zum Scrapen\n",
    "Diese Funktion nimmt eine Parkplatznummer entgegen und fügt einen Eintrag in den Dataframe ein."
   ]
  },
  {
   "cell_type": "code",
   "execution_count": 4,
   "metadata": {},
   "outputs": [],
   "source": [
    "def scrape_meta_data(parking_lot):\n",
    "    # url der Stadt Karlsruhe\n",
    "    BASE_URL = \"https://web1.karlsruhe.de/service/Parken/detail.php?id=\"\n",
    "\n",
    "    try:\n",
    "        # HTTP-Anfrage mit der URL des bestimmten Parkhauses\n",
    "        res = requests.get(f\"{BASE_URL}{parking_lot}\")\n",
    "        if res.status_code == 200:\n",
    "            soup = BeautifulSoup(res.text, \"html.parser\")\n",
    "\n",
    "            print(f\"Scraping {parking_lot}...\")\n",
    "\n",
    "            # Name des Parkhauses: Erstes h1\n",
    "            title = soup.find(\"h1\").text\n",
    "\n",
    "            # Durchfahrtshöhe: Zahl neben \"Durchfahrtshöhe\"\n",
    "            height = soup.find(string=\"Durchfahrtshöhe\").find_next(\"td\").text.split()[0]\n",
    "\n",
    "            # Aufzug\n",
    "            elevator = soup.find(string=\"Aufzug\").find_next(\"td\").text\n",
    "            # Daten liegen als \"ja\" oder \"nein\" vor: Umwandlung in bool\n",
    "            elevator = True if elevator == \"ja\" else False\n",
    "\n",
    "            # Ladestation\n",
    "            charging_station = soup.find(string=\"Ladestation\").find_next(\"td\").text\n",
    "            charging_station = True if charging_station == \"ja\" else False\n",
    "\n",
    "            # Gesamtanzahl der Stellplätze\n",
    "            total_spots = (\n",
    "                soup.find(string=\"Gesamtzahl der Stellplätze\").find_next(\"td\").text\n",
    "            )\n",
    "\n",
    "            # Anzahl der Behindertenstellplätze\n",
    "            disabled_spots = (\n",
    "                soup.find(string=\"Behinderten-Stellplätze\").find_next(\"td\").text\n",
    "            )\n",
    "\n",
    "            # Einfügen eines neuen Datensatzes in das DataFrame\n",
    "            df.loc[len(df)] = [\n",
    "                parking_lot,\n",
    "                title,\n",
    "                height,\n",
    "                elevator,\n",
    "                charging_station,\n",
    "                total_spots,\n",
    "                disabled_spots,\n",
    "            ]\n",
    "\n",
    "        else:\n",
    "            print(\"Error: \", res.status_code)\n",
    "    except Exception as e:\n",
    "        print(\"Error: \", e)"
   ]
  },
  {
   "cell_type": "markdown",
   "metadata": {},
   "source": [
    "# Metadaten zu allen Parkplätzen sammeln\n",
    "Wir iterieren über jedes Parkhaus und sammeln Daten"
   ]
  },
  {
   "cell_type": "code",
   "execution_count": 5,
   "metadata": {},
   "outputs": [
    {
     "name": "stdout",
     "output_type": "stream",
     "text": [
      "Scraping K01...\n",
      "Scraping K02...\n",
      "Scraping K03...\n",
      "Scraping K04...\n",
      "Scraping N02...\n",
      "Scraping N03...\n",
      "Scraping N05...\n",
      "Scraping N06...\n",
      "Scraping N07...\n",
      "Scraping S01...\n",
      "Scraping S02...\n",
      "Scraping S03...\n",
      "Scraping S04...\n",
      "Scraping S05...\n",
      "Scraping S06...\n",
      "Scraping S07...\n",
      "Scraping W01...\n",
      "Scraping W02...\n",
      "Scraping W03...\n",
      "Scraping W04...\n"
     ]
    }
   ],
   "source": [
    "# für jedes Parkhaus\n",
    "for parking_lot in parking_lots:\n",
    "    scrape_meta_data(parking_lot) # Metadaten scrapen"
   ]
  },
  {
   "cell_type": "markdown",
   "metadata": {},
   "source": [
    "# Dataframe speichern"
   ]
  },
  {
   "cell_type": "code",
   "execution_count": 6,
   "metadata": {},
   "outputs": [],
   "source": [
    "# in data/meta_data.csv speichern\n",
    "df.to_csv(\"../data/meta_data.csv\", index=False)"
   ]
  }
 ],
 "metadata": {
  "kernelspec": {
   "display_name": "dhbw-3-big-data",
   "language": "python",
   "name": "python3"
  },
  "language_info": {
   "codemirror_mode": {
    "name": "ipython",
    "version": 3
   },
   "file_extension": ".py",
   "mimetype": "text/x-python",
   "name": "python",
   "nbconvert_exporter": "python",
   "pygments_lexer": "ipython3",
   "version": "3.11.5"
  }
 },
 "nbformat": 4,
 "nbformat_minor": 2
}
