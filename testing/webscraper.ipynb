{
 "cells": [
  {
   "cell_type": "markdown",
   "metadata": {},
   "source": [
    "Am Beispiel von https://web1.karlsruhe.de/service/Parken/detail.php?id=K01\n"
   ]
  },
  {
   "cell_type": "code",
   "execution_count": 1,
   "metadata": {},
   "outputs": [],
   "source": [
    "from bs4 import BeautifulSoup\n",
    "import requests\n",
    "import pandas as pd\n",
    "import time"
   ]
  },
  {
   "cell_type": "code",
   "execution_count": 2,
   "metadata": {},
   "outputs": [
    {
     "data": {
      "text/html": [
       "<div>\n",
       "<style scoped>\n",
       "    .dataframe tbody tr th:only-of-type {\n",
       "        vertical-align: middle;\n",
       "    }\n",
       "\n",
       "    .dataframe tbody tr th {\n",
       "        vertical-align: top;\n",
       "    }\n",
       "\n",
       "    .dataframe thead th {\n",
       "        text-align: right;\n",
       "    }\n",
       "</style>\n",
       "<table border=\"1\" class=\"dataframe\">\n",
       "  <thead>\n",
       "    <tr style=\"text-align: right;\">\n",
       "      <th></th>\n",
       "      <th>free_spots</th>\n",
       "    </tr>\n",
       "    <tr>\n",
       "      <th>timestamp</th>\n",
       "      <th></th>\n",
       "    </tr>\n",
       "  </thead>\n",
       "  <tbody>\n",
       "  </tbody>\n",
       "</table>\n",
       "</div>"
      ],
      "text/plain": [
       "Empty DataFrame\n",
       "Columns: [free_spots]\n",
       "Index: []"
      ]
     },
     "execution_count": 2,
     "metadata": {},
     "output_type": "execute_result"
    }
   ],
   "source": [
    "parking_data = pd.DataFrame(columns=[\"timestamp\", \"free_spots\"])\n",
    "parking_data.set_index(\"timestamp\", inplace=True)\n",
    "parking_data"
   ]
  },
  {
   "cell_type": "code",
   "execution_count": 4,
   "metadata": {},
   "outputs": [
    {
     "name": "stdout",
     "output_type": "stream",
     "text": [
      "Data added:  2023-10-31 17:35:00\n",
      "   359 free spots\n",
      "Data added:  2023-10-31 17:40:00\n",
      "   362 free spots\n",
      "Data added:  2023-10-31 17:45:00\n",
      "   363 free spots\n"
     ]
    },
    {
     "data": {
      "text/html": [
       "<div>\n",
       "<style scoped>\n",
       "    .dataframe tbody tr th:only-of-type {\n",
       "        vertical-align: middle;\n",
       "    }\n",
       "\n",
       "    .dataframe tbody tr th {\n",
       "        vertical-align: top;\n",
       "    }\n",
       "\n",
       "    .dataframe thead th {\n",
       "        text-align: right;\n",
       "    }\n",
       "</style>\n",
       "<table border=\"1\" class=\"dataframe\">\n",
       "  <thead>\n",
       "    <tr style=\"text-align: right;\">\n",
       "      <th></th>\n",
       "      <th>free_spots</th>\n",
       "    </tr>\n",
       "    <tr>\n",
       "      <th>timestamp</th>\n",
       "      <th></th>\n",
       "    </tr>\n",
       "  </thead>\n",
       "  <tbody>\n",
       "    <tr>\n",
       "      <th>2023-10-31 17:30:00</th>\n",
       "      <td>357</td>\n",
       "    </tr>\n",
       "    <tr>\n",
       "      <th>2023-10-31 17:35:00</th>\n",
       "      <td>359</td>\n",
       "    </tr>\n",
       "    <tr>\n",
       "      <th>2023-10-31 17:40:00</th>\n",
       "      <td>362</td>\n",
       "    </tr>\n",
       "    <tr>\n",
       "      <th>2023-10-31 17:45:00</th>\n",
       "      <td>363</td>\n",
       "    </tr>\n",
       "  </tbody>\n",
       "</table>\n",
       "</div>"
      ],
      "text/plain": [
       "                    free_spots\n",
       "timestamp                     \n",
       "2023-10-31 17:30:00        357\n",
       "2023-10-31 17:35:00        359\n",
       "2023-10-31 17:40:00        362\n",
       "2023-10-31 17:45:00        363"
      ]
     },
     "execution_count": 4,
     "metadata": {},
     "output_type": "execute_result"
    }
   ],
   "source": [
    "n = 3\n",
    "sleep_time = 5 * 60  # 5 minutes\n",
    "\n",
    "for i in range(n):\n",
    "    try:\n",
    "        res = requests.get(\"https://web1.karlsruhe.de/service/Parken/detail.php?id=K01\")\n",
    "        if res.status_code == 200:\n",
    "            soup = BeautifulSoup(res.text, \"html.parser\")\n",
    "\n",
    "            # find h1 where the parking lot name is stored\n",
    "            parking_lot = soup.find(\"h1\")\n",
    "\n",
    "            # find element with text \"Gesamtzahl der freien Stellplätze\"\n",
    "            free_spots = soup.find(string=\"Gesamtzahl der freien Stellplätze\").find_next(\n",
    "                \"td\"\n",
    "            )\n",
    "\n",
    "            time_string = parking_lot.find_next(\"p\").find_next(\"p\")  # two after heading\n",
    "            time_string = time_string.text.split(\"von\")[1].split(\"Uhr\")[0]\n",
    "            time_string = time_string.split(\"-\")\n",
    "            time_string = time_string[0].strip() + \" \" + time_string[1].strip()\n",
    "\n",
    "            timestamp = pd.to_datetime(time_string, format=\"%d.%m.%Y %H:%M\")\n",
    "\n",
    "            # append data to dataframe\n",
    "            parking_data.loc[timestamp] = [\n",
    "                free_spots.text\n",
    "            ]\n",
    "            print(\"Data added: \", timestamp)\n",
    "            print(f\"   {free_spots.text} free spots\")\n",
    "\n",
    "        else:\n",
    "            print(\"Error: \", res.status_code)\n",
    "    except Exception as e:\n",
    "        print(\"Error: \", e)\n",
    "\n",
    "    time.sleep(sleep_time)\n",
    "\n",
    "\n",
    "parking_data"
   ]
  },
  {
   "cell_type": "code",
   "execution_count": 5,
   "metadata": {},
   "outputs": [],
   "source": [
    "parking_data.to_csv(\"../parking_data.csv\")"
   ]
  }
 ],
 "metadata": {
  "kernelspec": {
   "display_name": "dhbw-3-big-data",
   "language": "python",
   "name": "python3"
  },
  "language_info": {
   "codemirror_mode": {
    "name": "ipython",
    "version": 3
   },
   "file_extension": ".py",
   "mimetype": "text/x-python",
   "name": "python",
   "nbconvert_exporter": "python",
   "pygments_lexer": "ipython3",
   "version": "3.11.5"
  }
 },
 "nbformat": 4,
 "nbformat_minor": 2
}
