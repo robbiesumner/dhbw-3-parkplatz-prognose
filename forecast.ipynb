{
 "cells": [
  {
   "cell_type": "markdown",
   "metadata": {},
   "source": [
    "# Benötigte Pakete\n",
    "Pandas: Für Arbeit mit ph_verlaufframe\n",
    "Matplotlib: Zur Ausgabe von Plots und für Datenrechnungen"
   ]
  },
  {
   "cell_type": "code",
   "execution_count": 1,
   "metadata": {},
   "outputs": [],
   "source": [
    "import pandas as pd\n",
    "import matplotlib.pyplot as plt\n",
    "import matplotlib.dates as mdates"
   ]
  },
  {
   "cell_type": "markdown",
   "metadata": {},
   "source": [
    "# Begrüßung User"
   ]
  },
  {
   "cell_type": "code",
   "execution_count": 11,
   "metadata": {},
   "outputs": [
    {
     "name": "stdout",
     "output_type": "stream",
     "text": [
      "Willkommen zur Parkhausverfügbarkeitsprognose.\n",
      "Im ersten Schritt können Sie einige Filterungen vornehmen.\n",
      "Danach zeigen wir Ihnen passende Parkhäuser, die zur Auswahl stehen.\n",
      "Sie suchen sich dann anhand des Kürzels ein Parkhaus aus.\n",
      "Im Anschluss erhalten Sie die Prognose des ausgewählten Parkhauses für die nächste Woche.\n"
     ]
    }
   ],
   "source": [
    "print(\"\"\"Willkommen zur Parkhausverfügbarkeitsprognose.\n",
    "Im ersten Schritt können Sie einige Filterungen vornehmen.\n",
    "Danach zeigen wir Ihnen passende Parkhäuser, die zur Auswahl stehen.\n",
    "Sie suchen sich dann anhand des Kürzels ein Parkhaus aus.\n",
    "Im Anschluss erhalten Sie die Prognose des ausgewählten Parkhauses für die nächste Woche.\"\"\")"
   ]
  },
  {
   "cell_type": "markdown",
   "metadata": {},
   "source": [
    "# Filterung\n",
    "Im ersten Schritt kann der User drei Filterungen von Parkhauseigenschaften vornehmen:\n",
    "1. Ladesäule vorhanden\n",
    "2. Aufzug vorhanden\n",
    "3. Mindestdurchfahrtshöhe des Parkhauses"
   ]
  },
  {
   "cell_type": "code",
   "execution_count": null,
   "metadata": {},
   "outputs": [],
   "source": [
    "# Datensatz zu Parkhauseigenschaften einlesen\n",
    "ph_eigenschaften = pd.read_csv(\"Parkhauseigenschaften.csv\")\n",
    "print(ph_eigenschaften.head())\n",
    "\n",
    "# Filterung Ladesäule\n",
    "ladesaeule_filter = input(\"Muss das gewünschte Parkhaus eine Ladesäule besitzen? 1: Ja, 0: Nein\")\n",
    "if (ladesaeule_filter == 1):\n",
    "    ph_eigenschaften = ph_eigenschaften[ph_eigenschaften['ladesaeule'] == True]\n",
    "elif (ladesaeule_filter == 0):\n",
    "    pass\n",
    "else: \n",
    "    print(\"Falsche Angabe. Keine Filterung vorgenommen.\")\n",
    "\n",
    "# Filterung Aufzug\n",
    "aufzug_filter = input(\"Muss das gewünschte Parkhaus einen Aufzug besitzen? 1: Ja, 0: Nein\")\n",
    "if (aufzug_filter == 1):\n",
    "    ph_eigenschaften = ph_eigenschaften[ph_eigenschaften['aufzug'] == True]\n",
    "elif (aufzug_filter == 0):\n",
    "    pass\n",
    "else: \n",
    "    print(\"Falsche Angabe. Keine Filterung vorgenommen.\")\n",
    "\n",
    "# Filterung Mindestdurchfahrtshöhe\n",
    "try:\n",
    "    dh_filter = float(input(\"Welche Durchfahrtshöhe soll das Parkhaus mindestens haben? Angabe in cm (z. B. 160): \"))\n",
    "    ph_eigenschaften = ph_eigenschaften[ph_eigenschaften['durchfahrtshoehe'] >= dh_filter]\n",
    "except ValueError:\n",
    "    print(\"Falsche Angabe. Bitte geben Sie einen numerischen Wert ein.\")"
   ]
  },
  {
   "cell_type": "markdown",
   "metadata": {},
   "source": [
    "# Parkhausauswahl\n",
    "Nach den Filterungen wird dem User nun eine Liste aller passenden Parkhäuser angezeigt.<br>\n",
    "Er kann nun durch Angabe des entsprechenden Kürzels ein Parkhaus auswählen. <br>\n",
    "Danach laden wir dem Parkhaus entsprechende csv-Datei."
   ]
  },
  {
   "cell_type": "code",
   "execution_count": 16,
   "metadata": {},
   "outputs": [
    {
     "name": "stdout",
     "output_type": "stream",
     "text": [
      "   Unnamed: 0            timestamp  free_spots\n",
      "0           0  2023-10-31 22:40:00         400\n",
      "1           1  2023-10-31 22:45:00         399\n",
      "2           2  2023-10-31 22:50:00         400\n",
      "3           3  2023-10-31 22:55:00         400\n",
      "4           4  2023-10-31 23:00:00         401\n"
     ]
    }
   ],
   "source": [
    "# Ausgabe der Liste mit passenden Parkhäusern\n",
    "print(\"Folgende Parkhäuser entsprechen ihren Filterungen:\")\n",
    "for index, row in ph_eigenschaften.iterrows():\n",
    "    parkplatz_info = \"{kuerzel}: {name}, Durchfahrtshöhe {hoehe}cm, {behinderten} Behindertenstellplätze vorhanden\".format(\n",
    "        kuerzel=row['parkplatz'],\n",
    "        name=row['name'],\n",
    "        hoehe=row['durchfahrtshoehe'],\n",
    "        behinderten=row['behindertenstellplaetze']\n",
    "    )\n",
    "    print(parkplatz_info)\n",
    "\n",
    "# Auswahl\n",
    "\n",
    "#phliste = \"K01: Kongresszentrum PH1, Durchfahrtshöhe 190cm, 5 Behindertenstellplätze\\n\\\n",
    "#      K02: Kongresszentrum PH2, Durchfahrtshöhe 190cm, 12 Behindertenstellplätze\\n\\\n",
    "#        K03: Luisenstraße, Durchfahrtshöhe 200cm, 0 Behindertenstellplätze\\n\" + \"...\"\n",
    "#print(phliste)\n",
    "ph_kuerzel = input(\"Sie können nun einen Parkplatz auswählen. Bitte geben Sie das entsprechende Parkhaus-Kürzel an (z. B. K01): \")\n",
    "\n",
    "# Laden der \n",
    "ph_verlauf = pd.read_csv(ph_kuerzel + \".csv\")\n",
    "print(ph_verlauf.head())\n"
   ]
  },
  {
   "cell_type": "markdown",
   "metadata": {},
   "source": [
    "# Prognoseberechnung\n",
    "(anhand Mittelwert der free spots)<br>\n",
    "<br>\n",
    "Schritt 1: Aggregation der Anzahl freier Parkplätze auf Stunden<br>\n",
    "Schritt 2: Neue Spalte \"belegt\", die Anzahl belegter Plätze angibt\n",
    "Schritt 3: Mittelwert der Belegung auf Basis bisheriger Wochen berechnen"
   ]
  },
  {
   "cell_type": "code",
   "execution_count": null,
   "metadata": {},
   "outputs": [],
   "source": [
    "# ---------\n",
    "# Schritt 1\n",
    "# ---------\n",
    "# Konvertierung ins datetime-Format\n",
    "ph_verlauf['timestamp'] = pd.to_datetime(ph_verlauf['timestamp'])\n",
    "# Abrunden auf die Stunde\n",
    "ph_verlauf['timestamp_hour'] = ph_verlauf['timestamp'].dt.floor('H')\n",
    "\n",
    "# Gruppieren nach Datum und abgerundeter Stunde, dann Mittelwert berechnen\n",
    "ph_verlauf_hour = ph_verlauf.groupby(ph_verlauf['timestamp_hour'])['free_spots'].mean()\n",
    "ph_verlauf_hour = ph_verlauf_hour.reset_index(name='average_free_spots')\n",
    "ph_verlauf_hour = round(ph_verlauf_hour, 0)\n",
    "\n",
    "# Test-Ausgabe vorhandene Daten als Liniendiagramm\n",
    "ph_verlauf_hour.sort_values('timestamp_hour', inplace=True)\n",
    "plt.plot(ph_verlauf_hour['timestamp_hour'], ph_verlauf_hour['average_free_spots'])\n",
    "plt.show()\n",
    "\n",
    "# ---------\n",
    "# Schritt 2\n",
    "# ---------\n",
    "# Gesamtanzahl Parkplätze des ausgewählten Parkhauses extrahieren\n",
    "gesamtanzahl = ph_eigenschaften[ph_eigenschaften['parkplatz'] == ph_kuerzel]['gesamtanzahl'].iloc[0]\n",
    "# Neue Spalte mit Anzahl belegter Parkplätze\n",
    "ph_verlauf_hour['belegt'] = gesamtanzahl - ph_verlauf_hour['average_free_spots']\n",
    "\n",
    "# ---------\n",
    "# Schritt 3\n",
    "# ---------\n",
    "# Wochentag und Stunde extrahieren\n",
    "ph_verlauf_hour['wochentag'] = ph_verlauf_hour['timestamp_hour'].dt.day_name()\n",
    "ph_verlauf_hour['stunde'] = ph_verlauf_hour['timestamp_hour'].dt.hour\n",
    "\n",
    "# Mittelwert der belegten Plätze, gruppiert nach Wochentag und Stunde\n",
    "mittelwerte = ph_verlauf_hour.groupby(['wochentag', 'stunde'])['belegt'].mean().reset_index()\n",
    "mittelwerte.rename(columns={'belegt': 'mittelwert_belegt'}, inplace=True)\n",
    "\n",
    "print(mittelwerte.head())\n"
   ]
  },
  {
   "cell_type": "markdown",
   "metadata": {},
   "source": [
    "# Ausgabe als Liniendiagramm\n",
    "Für jeden Tag eine Verlaufskurve.\n",
    "\n",
    "BISHER NUR AUS CHATGPT KOPIERT, SOBALD DATEN DA SIND UND BIS HIERHIN ALLES KLAPPT: ANPASSEN"
   ]
  },
  {
   "cell_type": "code",
   "execution_count": null,
   "metadata": {},
   "outputs": [],
   "source": [
    "# Erstellen Sie eine Abbildung und eine Achse\n",
    "fig, ax = plt.subplots(figsize=(10, 6))\n",
    "\n",
    "# Eindeutige Wochentage ermitteln\n",
    "wochentage = mittelwerte['wochentag'].unique()\n",
    "\n",
    "# Sortieren der Wochentage in der richtigen Reihenfolge\n",
    "sortierte_wochentage = ['Monday', 'Tuesday', 'Wednesday', 'Thursday', 'Friday', 'Saturday', 'Sunday']\n",
    "\n",
    "# Plotten Sie die Mittelwerte für jeden Wochentag\n",
    "for wochentag in sortierte_wochentage:\n",
    "    # Filtern Sie die Daten für den Wochentag\n",
    "    tagesdaten = mittelwerte[mittelwerte['wochentag'] == wochentag]\n",
    "    # Plotten Sie die Daten\n",
    "    ax.plot(tagesdaten['stunde'], tagesdaten['mittelwert_belegt'], label=wochentag)\n",
    "\n",
    "# Formatierung der x-Achse für Stunden\n",
    "ax.xaxis.set_major_locator(mdates.HourLocator(interval=1))\n",
    "ax.xaxis.set_major_formatter(mdates.DateFormatter('%H:%M'))\n",
    "\n",
    "# Achsenbeschriftungen und Diagrammtitel\n",
    "ax.set_xlabel('Stunde des Tages')\n",
    "ax.set_ylabel('Durchschnittlich belegte Parkplätze')\n",
    "ax.set_title('Durchschnittliche Belegungsentwicklung über die Woche')\n",
    "\n",
    "# Legende anzeigen\n",
    "ax.legend()\n",
    "\n",
    "# Diagramm anzeigen\n",
    "plt.xticks(range(0, 24))  # Stellen Sie sicher, dass alle Stunden angezeigt werden\n",
    "plt.grid(True)  # Gitterlinien für bessere Lesbarkeit hinzufügen\n",
    "plt.show()\n"
   ]
  }
 ],
 "metadata": {
  "kernelspec": {
   "display_name": "Python 3",
   "language": "python",
   "name": "python3"
  },
  "language_info": {
   "codemirror_mode": {
    "name": "ipython",
    "version": 3
   },
   "file_extension": ".py",
   "mimetype": "text/x-python",
   "name": "python",
   "nbconvert_exporter": "python",
   "pygments_lexer": "ipython3",
   "version": "3.8.0"
  }
 },
 "nbformat": 4,
 "nbformat_minor": 2
}
